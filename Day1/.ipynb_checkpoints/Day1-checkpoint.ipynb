{
 "cells": [
  {
   "cell_type": "markdown",
   "metadata": {},
   "source": [
    "# Advent of Code - Day 1"
   ]
  },
  {
   "cell_type": "markdown",
   "metadata": {},
   "source": [
    "## Part 1 - Addition"
   ]
  },
  {
   "cell_type": "markdown",
   "metadata": {},
   "source": [
    "VS Code has a shortcut to remove line breaks from selection (ctrl+j)."
   ]
  },
  {
   "cell_type": "code",
   "execution_count": 2,
   "metadata": {},
   "outputs": [
    {
     "data": {
      "text/plain": [
       "547"
      ]
     },
     "execution_count": 2,
     "metadata": {},
     "output_type": "execute_result"
    }
   ],
   "source": [
    "-10 +6 -1 -18 -19 +8 -18 -9 -9 +8 +13 +6 -11 +19 -15 -9 -1 +5 +14 -7 +18 -10 +16 +18 +9 -1 +16 -12 -7 -20 +14 -18 +16 -2 -6 -22 +3 +3 -20 +16 +8 -15 -12 -12 -6 -16 -18 -15 -1 +9 +11 +12 -17 -3 +12 +16 +9 +11 +19 +18 +9 +19 -13 +10 +12 +17 -14 -2 +10 -2 +12 +18 -7 +2 +12 -8 -19 +16 +14 +8 -3 +14 +17 -8 -17 +18 -7 -18 -16 +7 +14 -3 -13 +20 +13 +15 +19 +11 +13 -19 +5 +11 +7 +9 +3 +14 -1 +6 -15 -8 -2 +7 -6 -6 -2 +5 +10 -16 -7 -16 -2 +16 -3 +1 +5 +11 -1 +19 +16 +18 -3 +5 +9 -18 -9 -1 +15 +19 -16 -11 +16 +13 +5 +17 +12 -10 +14 +10 +17 +6 -13 -9 +7 -15 -14 -20 +18 +7 -1 -5 +9 +5 +10 -5 +21 +4 +12 +17 +19 -9 -12 -14 -7 +3 -4 -3 -11 -2 -7 -19 -17 +7 -10 -1 -3 +5 -10 +4 -12 +5 +17 +21 +18 -2 -9 -10 -21 -5 +20 -19 -5 +14 +17 +17 +20 +17 -18 +19 -2 +8 +17 -12 +14 +12 +9 -16 -8 +2 +9 +11 +9 -17 -16 +15 +10 +3 +14 +6 +10 -2 +13 -19 -14 +10 +5 -14 -2 -6 +9 -7 +1 -2 -16 -7 +5 -4 -18 +2 +6 -4 -19 +1 +20 -12 +17 +18 +3 +19 +20 +9 +17 -15 -7 -3 +11 +13 +10 -15 -3 +19 -21 +1 +16 +15 -5 -3 +15 +4 -6 +4 +11 +19 +2 -8 -7 +14 -19 -6 +9 +6 -17 +10 +5 -20 +19 +16 +16 +21 -2 +15 +18 -8 -19 +3 -1 +28 +7 +5 -6 -10 +5 -17 +25 -5 +11 +5 +2 +16 +12 -15 -18 +8 +5 +2 -6 +7 -19 -6 +23 -32 +17 +36 +17 +20 -3 +5 +6 -14 +1 -3 +17 +10 -13 +20 +18 -9 -11 +14 -10 +17 +10 +14 +4 +12 +7 -2 -13 +14 -8 +17 +9 -1 +2 +11 +2 -6 -5 +7 -18 +13 -18 -17 -9 +12 +17 -13 +11 -4 +22 -21 +19 +5 +23 -15 +27 +18 +6 +16 +12 +5 -2 +1 -18 -7 -18 -14 +16 +19 +15 -1 +18 +10 -5 -20 +13 +8 +10 +21 +1 +6 +12 -5 +19 +15 -13 -10 -1 +20 +2 -14 +8 +22 +1 -12 -8 +26 +20 -2 -3 +22 +16 +1 +20 -7 -11 -12 -6 -9 -17 -7 +18 -14 +22 -9 +14 -37 +7 -16 +13 -25 -8 -2 +27 +1 +72 +11 +14 +1 +16 +1 -24 +22 -61 -62 +5 -40 +14 -31 +20 +6 +25 -27 -29 -9 -14 -18 +5 -43 +13 +4 +55 -61 -19 -24 -16 -23 -24 -6 -7 +5 -12 +18 -13 -4 -14 -13 -18 -12 +1 +24 -18 +2 -20 -21 +4 -16 +22 +3 -11 -5 +10 -1 +5 -27 -21 +19 -15 -10 +29 +28 +3 +18 +8 +6 -1 -3 +14 +9 -10 -29 +9 -14 -9 -22 -1 +13 +22 +19 -4 -2 -72 +13 +115 +77 -61 +401 +75361 -11 +2 -19 -6 -14 -20 +16 +19 -10 +5 +7 -20 -11 -14 -2 +19 -7 +29 +16 -4 +11 -5 -3 +14 +13 -10 +13 +9 +19 +7 +10 +14 +16 +12 -8 +9 +16 -8 +6 +19 -14 +4 -6 +17 +1 +8 +18 +6 -11 -8 +10 +10 +8 +14 -10 -2 -16 -12 +9 -17 -14 +8 -11 -3 -1 -8 -17 +1 +1 +14 +18 -10 -14 -14 +2 +11 +2 -4 -1 -17 +19 -11 -12 +8 -5 -2 -5 -24 -1 -1 +3 -13 +9 +19 +17 -18 -7 -2 +11 -10 +15 +13 -5 -11 +18 +25 +22 +10 -7 +5 +4 -3 +14 -5 +16 -14 +15 +22 -19 +16 -3 -3 +15 +19 +16 -13 +6 +4 +6 -18 -5 +9 -15 +7 -12 +3 -18 -7 -3 -15 -12 +13 -14 -7 -5 +14 +16 +12 +17 +3 +2 +8 +6 +17 -11 -2 +5 -1 +6 -13 +18 +6 -12 +7 +18 -2 -5 -4 -3 +6 -7 +12 +11 +19 -16 +13 +11 +14 +8 +8 -9 +8 +6 +15 +7 +17 +13 -9 -15 +1 -15 +3 +17 -15 +17 -15 -1 +15 +11 +4 +1 +13 +14 +10 +15 +4 +16 -13 +9 +14 +16 +8 +9 +4 +1 +6 +10 +16 +20 +15 +16 +14 +3 -7 +6 +18 -8 -13 -18 -12 +10 +13 -3 +9 -18 -8 -12 +2 +6 +19 -5 +1 +14 +20 +2 +11 +3 -6 -11 +16 +2 -13 -12 -19 -19 +2 -12 -5 -8 -2 -15 -18 +15 -11 -12 -8 -9 -1 -11 -13 +11 -17 +18 -9 -6 -22 -13 -4 -16 -19 -17 +4 +19 +3 +12 +1 -18 +8 +16 +4 -5 +14 +16 -2 -4 +13 -14 +17 +20 +18 -19 -11 +18 -9 -14 +13 +2 -19 -8 -18 -14 -1 -18 +10 -2 +3 +11 +9 -1 +6 +17 -15 -9 +10 +15 -19 -11 -17 -6 +8 -11 -10 -1 -1 -16 -13 -14 -5 +8 -18 -6 +14 -12 -15 -6 -16 +1 -14 +5 -16 +9 -4 +17 +7 +13 +8 -3 +20 -7 -3 -19 +16 +15 -11 -15 +2 +3 -9 -7 -17 +4 -1 +5 +8 +6 -1 +15 +5 +8 +4 +6 -8 +6 +13 -4 +1 +19 +5 +3 +12 -3 -19 -15 +19 -15 -2 +1 +5 -15 -25 -24 -20 +18 -76214"
   ]
  },
  {
   "cell_type": "markdown",
   "metadata": {},
   "source": [
    "## Part 2"
   ]
  },
  {
   "cell_type": "code",
   "execution_count": 8,
   "metadata": {},
   "outputs": [
    {
     "ename": "FileNotFoundError",
     "evalue": "File b'/Users/nicofechtner/DEV/AdventOfCode/input.txt' does not exist",
     "output_type": "error",
     "traceback": [
      "\u001b[0;31m---------------------------------------------------------------------------\u001b[0m",
      "\u001b[0;31mFileNotFoundError\u001b[0m                         Traceback (most recent call last)",
      "\u001b[0;32m<ipython-input-8-6329e793247c>\u001b[0m in \u001b[0;36m<module>\u001b[0;34m()\u001b[0m\n\u001b[1;32m      2\u001b[0m \u001b[0;32mimport\u001b[0m \u001b[0mos\u001b[0m\u001b[0;34m\u001b[0m\u001b[0m\n\u001b[1;32m      3\u001b[0m \u001b[0mdata_path\u001b[0m \u001b[0;34m=\u001b[0m \u001b[0mos\u001b[0m\u001b[0;34m.\u001b[0m\u001b[0mpath\u001b[0m\u001b[0;34m.\u001b[0m\u001b[0mjoin\u001b[0m\u001b[0;34m(\u001b[0m\u001b[0mos\u001b[0m\u001b[0;34m.\u001b[0m\u001b[0mgetcwd\u001b[0m\u001b[0;34m(\u001b[0m\u001b[0;34m)\u001b[0m\u001b[0;34m,\u001b[0m \u001b[0;34m'input.txt'\u001b[0m\u001b[0;34m)\u001b[0m\u001b[0;34m\u001b[0m\u001b[0m\n\u001b[0;32m----> 4\u001b[0;31m \u001b[0mdf\u001b[0m \u001b[0;34m=\u001b[0m \u001b[0mpd\u001b[0m\u001b[0;34m.\u001b[0m\u001b[0mread_csv\u001b[0m\u001b[0;34m(\u001b[0m\u001b[0mdata_path\u001b[0m\u001b[0;34m)\u001b[0m\u001b[0;34m\u001b[0m\u001b[0m\n\u001b[0m",
      "\u001b[0;32m/Library/Frameworks/Python.framework/Versions/3.7/lib/python3.7/site-packages/pandas/io/parsers.py\u001b[0m in \u001b[0;36mparser_f\u001b[0;34m(filepath_or_buffer, sep, delimiter, header, names, index_col, usecols, squeeze, prefix, mangle_dupe_cols, dtype, engine, converters, true_values, false_values, skipinitialspace, skiprows, nrows, na_values, keep_default_na, na_filter, verbose, skip_blank_lines, parse_dates, infer_datetime_format, keep_date_col, date_parser, dayfirst, iterator, chunksize, compression, thousands, decimal, lineterminator, quotechar, quoting, escapechar, comment, encoding, dialect, tupleize_cols, error_bad_lines, warn_bad_lines, skipfooter, doublequote, delim_whitespace, low_memory, memory_map, float_precision)\u001b[0m\n\u001b[1;32m    676\u001b[0m                     skip_blank_lines=skip_blank_lines)\n\u001b[1;32m    677\u001b[0m \u001b[0;34m\u001b[0m\u001b[0m\n\u001b[0;32m--> 678\u001b[0;31m         \u001b[0;32mreturn\u001b[0m \u001b[0m_read\u001b[0m\u001b[0;34m(\u001b[0m\u001b[0mfilepath_or_buffer\u001b[0m\u001b[0;34m,\u001b[0m \u001b[0mkwds\u001b[0m\u001b[0;34m)\u001b[0m\u001b[0;34m\u001b[0m\u001b[0m\n\u001b[0m\u001b[1;32m    679\u001b[0m \u001b[0;34m\u001b[0m\u001b[0m\n\u001b[1;32m    680\u001b[0m     \u001b[0mparser_f\u001b[0m\u001b[0;34m.\u001b[0m\u001b[0m__name__\u001b[0m \u001b[0;34m=\u001b[0m \u001b[0mname\u001b[0m\u001b[0;34m\u001b[0m\u001b[0m\n",
      "\u001b[0;32m/Library/Frameworks/Python.framework/Versions/3.7/lib/python3.7/site-packages/pandas/io/parsers.py\u001b[0m in \u001b[0;36m_read\u001b[0;34m(filepath_or_buffer, kwds)\u001b[0m\n\u001b[1;32m    438\u001b[0m \u001b[0;34m\u001b[0m\u001b[0m\n\u001b[1;32m    439\u001b[0m     \u001b[0;31m# Create the parser.\u001b[0m\u001b[0;34m\u001b[0m\u001b[0;34m\u001b[0m\u001b[0m\n\u001b[0;32m--> 440\u001b[0;31m     \u001b[0mparser\u001b[0m \u001b[0;34m=\u001b[0m \u001b[0mTextFileReader\u001b[0m\u001b[0;34m(\u001b[0m\u001b[0mfilepath_or_buffer\u001b[0m\u001b[0;34m,\u001b[0m \u001b[0;34m**\u001b[0m\u001b[0mkwds\u001b[0m\u001b[0;34m)\u001b[0m\u001b[0;34m\u001b[0m\u001b[0m\n\u001b[0m\u001b[1;32m    441\u001b[0m \u001b[0;34m\u001b[0m\u001b[0m\n\u001b[1;32m    442\u001b[0m     \u001b[0;32mif\u001b[0m \u001b[0mchunksize\u001b[0m \u001b[0;32mor\u001b[0m \u001b[0miterator\u001b[0m\u001b[0;34m:\u001b[0m\u001b[0;34m\u001b[0m\u001b[0m\n",
      "\u001b[0;32m/Library/Frameworks/Python.framework/Versions/3.7/lib/python3.7/site-packages/pandas/io/parsers.py\u001b[0m in \u001b[0;36m__init__\u001b[0;34m(self, f, engine, **kwds)\u001b[0m\n\u001b[1;32m    785\u001b[0m             \u001b[0mself\u001b[0m\u001b[0;34m.\u001b[0m\u001b[0moptions\u001b[0m\u001b[0;34m[\u001b[0m\u001b[0;34m'has_index_names'\u001b[0m\u001b[0;34m]\u001b[0m \u001b[0;34m=\u001b[0m \u001b[0mkwds\u001b[0m\u001b[0;34m[\u001b[0m\u001b[0;34m'has_index_names'\u001b[0m\u001b[0;34m]\u001b[0m\u001b[0;34m\u001b[0m\u001b[0m\n\u001b[1;32m    786\u001b[0m \u001b[0;34m\u001b[0m\u001b[0m\n\u001b[0;32m--> 787\u001b[0;31m         \u001b[0mself\u001b[0m\u001b[0;34m.\u001b[0m\u001b[0m_make_engine\u001b[0m\u001b[0;34m(\u001b[0m\u001b[0mself\u001b[0m\u001b[0;34m.\u001b[0m\u001b[0mengine\u001b[0m\u001b[0;34m)\u001b[0m\u001b[0;34m\u001b[0m\u001b[0m\n\u001b[0m\u001b[1;32m    788\u001b[0m \u001b[0;34m\u001b[0m\u001b[0m\n\u001b[1;32m    789\u001b[0m     \u001b[0;32mdef\u001b[0m \u001b[0mclose\u001b[0m\u001b[0;34m(\u001b[0m\u001b[0mself\u001b[0m\u001b[0;34m)\u001b[0m\u001b[0;34m:\u001b[0m\u001b[0;34m\u001b[0m\u001b[0m\n",
      "\u001b[0;32m/Library/Frameworks/Python.framework/Versions/3.7/lib/python3.7/site-packages/pandas/io/parsers.py\u001b[0m in \u001b[0;36m_make_engine\u001b[0;34m(self, engine)\u001b[0m\n\u001b[1;32m   1012\u001b[0m     \u001b[0;32mdef\u001b[0m \u001b[0m_make_engine\u001b[0m\u001b[0;34m(\u001b[0m\u001b[0mself\u001b[0m\u001b[0;34m,\u001b[0m \u001b[0mengine\u001b[0m\u001b[0;34m=\u001b[0m\u001b[0;34m'c'\u001b[0m\u001b[0;34m)\u001b[0m\u001b[0;34m:\u001b[0m\u001b[0;34m\u001b[0m\u001b[0m\n\u001b[1;32m   1013\u001b[0m         \u001b[0;32mif\u001b[0m \u001b[0mengine\u001b[0m \u001b[0;34m==\u001b[0m \u001b[0;34m'c'\u001b[0m\u001b[0;34m:\u001b[0m\u001b[0;34m\u001b[0m\u001b[0m\n\u001b[0;32m-> 1014\u001b[0;31m             \u001b[0mself\u001b[0m\u001b[0;34m.\u001b[0m\u001b[0m_engine\u001b[0m \u001b[0;34m=\u001b[0m \u001b[0mCParserWrapper\u001b[0m\u001b[0;34m(\u001b[0m\u001b[0mself\u001b[0m\u001b[0;34m.\u001b[0m\u001b[0mf\u001b[0m\u001b[0;34m,\u001b[0m \u001b[0;34m**\u001b[0m\u001b[0mself\u001b[0m\u001b[0;34m.\u001b[0m\u001b[0moptions\u001b[0m\u001b[0;34m)\u001b[0m\u001b[0;34m\u001b[0m\u001b[0m\n\u001b[0m\u001b[1;32m   1015\u001b[0m         \u001b[0;32melse\u001b[0m\u001b[0;34m:\u001b[0m\u001b[0;34m\u001b[0m\u001b[0m\n\u001b[1;32m   1016\u001b[0m             \u001b[0;32mif\u001b[0m \u001b[0mengine\u001b[0m \u001b[0;34m==\u001b[0m \u001b[0;34m'python'\u001b[0m\u001b[0;34m:\u001b[0m\u001b[0;34m\u001b[0m\u001b[0m\n",
      "\u001b[0;32m/Library/Frameworks/Python.framework/Versions/3.7/lib/python3.7/site-packages/pandas/io/parsers.py\u001b[0m in \u001b[0;36m__init__\u001b[0;34m(self, src, **kwds)\u001b[0m\n\u001b[1;32m   1706\u001b[0m         \u001b[0mkwds\u001b[0m\u001b[0;34m[\u001b[0m\u001b[0;34m'usecols'\u001b[0m\u001b[0;34m]\u001b[0m \u001b[0;34m=\u001b[0m \u001b[0mself\u001b[0m\u001b[0;34m.\u001b[0m\u001b[0musecols\u001b[0m\u001b[0;34m\u001b[0m\u001b[0m\n\u001b[1;32m   1707\u001b[0m \u001b[0;34m\u001b[0m\u001b[0m\n\u001b[0;32m-> 1708\u001b[0;31m         \u001b[0mself\u001b[0m\u001b[0;34m.\u001b[0m\u001b[0m_reader\u001b[0m \u001b[0;34m=\u001b[0m \u001b[0mparsers\u001b[0m\u001b[0;34m.\u001b[0m\u001b[0mTextReader\u001b[0m\u001b[0;34m(\u001b[0m\u001b[0msrc\u001b[0m\u001b[0;34m,\u001b[0m \u001b[0;34m**\u001b[0m\u001b[0mkwds\u001b[0m\u001b[0;34m)\u001b[0m\u001b[0;34m\u001b[0m\u001b[0m\n\u001b[0m\u001b[1;32m   1709\u001b[0m \u001b[0;34m\u001b[0m\u001b[0m\n\u001b[1;32m   1710\u001b[0m         \u001b[0mpassed_names\u001b[0m \u001b[0;34m=\u001b[0m \u001b[0mself\u001b[0m\u001b[0;34m.\u001b[0m\u001b[0mnames\u001b[0m \u001b[0;32mis\u001b[0m \u001b[0;32mNone\u001b[0m\u001b[0;34m\u001b[0m\u001b[0m\n",
      "\u001b[0;32mpandas/_libs/parsers.pyx\u001b[0m in \u001b[0;36mpandas._libs.parsers.TextReader.__cinit__\u001b[0;34m()\u001b[0m\n",
      "\u001b[0;32mpandas/_libs/parsers.pyx\u001b[0m in \u001b[0;36mpandas._libs.parsers.TextReader._setup_parser_source\u001b[0;34m()\u001b[0m\n",
      "\u001b[0;31mFileNotFoundError\u001b[0m: File b'/Users/nicofechtner/DEV/AdventOfCode/input.txt' does not exist"
     ]
    }
   ],
   "source": [
    "import pandas as pd\n",
    "import os\n",
    "data_path = os.path.join(os.getcwd(), 'input.txt')\n",
    "df = pd.read_csv(data_path)"
   ]
  },
  {
   "cell_type": "code",
   "execution_count": null,
   "metadata": {},
   "outputs": [],
   "source": []
  }
 ],
 "metadata": {
  "kernelspec": {
   "display_name": "Python 3",
   "language": "python",
   "name": "python3"
  },
  "language_info": {
   "codemirror_mode": {
    "name": "ipython",
    "version": 3
   },
   "file_extension": ".py",
   "mimetype": "text/x-python",
   "name": "python",
   "nbconvert_exporter": "python",
   "pygments_lexer": "ipython3",
   "version": "3.7.0"
  }
 },
 "nbformat": 4,
 "nbformat_minor": 2
}

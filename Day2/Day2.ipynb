{
 "cells": [
  {
   "cell_type": "markdown",
   "metadata": {},
   "source": [
    "# Advent of Code - Day 2"
   ]
  },
  {
   "cell_type": "code",
   "execution_count": 20,
   "metadata": {},
   "outputs": [],
   "source": [
    "import pandas as pd\n",
    "import os\n",
    "import sys\n",
    "\n",
    "data_path = os.path.join(os.getcwd(), 'input.txt')\n",
    "box_ids = pd.read_csv(data_path, header=None).values.flatten().tolist()"
   ]
  },
  {
   "cell_type": "markdown",
   "metadata": {},
   "source": [
    "## Part 1 - Character Counting"
   ]
  },
  {
   "cell_type": "code",
   "execution_count": 21,
   "metadata": {},
   "outputs": [
    {
     "data": {
      "text/plain": [
       "6150"
      ]
     },
     "execution_count": 21,
     "metadata": {},
     "output_type": "execute_result"
    }
   ],
   "source": [
    "number_of_ids_containing_exactly_two_of_any_letter = 0\n",
    "number_of_ids_containing_exactly_three_of_any_letter = 0\n",
    "for box_id in box_ids:\n",
    "    characters_occuring_twice = set()\n",
    "    characters_occuring_three_times = set()\n",
    "    for character in box_id:\n",
    "        if box_id.count(character) == 2:\n",
    "            characters_occuring_twice.add(character)\n",
    "        elif box_id.count(character) == 3:\n",
    "            characters_occuring_three_times.add(character)\n",
    "    if len(characters_occuring_twice) > 0:\n",
    "        number_of_ids_containing_exactly_two_of_any_letter += 1\n",
    "    if len(characters_occuring_three_times) > 0:\n",
    "        number_of_ids_containing_exactly_three_of_any_letter += 1\n",
    "number_of_ids_containing_exactly_two_of_any_letter * number_of_ids_containing_exactly_three_of_any_letter"
   ]
  },
  {
   "cell_type": "markdown",
   "metadata": {},
   "source": [
    "## Part 2 - String Comparison"
   ]
  },
  {
   "cell_type": "code",
   "execution_count": 22,
   "metadata": {},
   "outputs": [
    {
     "name": "stdout",
     "output_type": "stream",
     "text": [
      "rtehotyxzbodglnpkudawhijsc\n",
      "rtefotyxzbodglnpkudawhijsc\n",
      "rtefotyxzbodglnpkudawhijsc\n",
      "rtehotyxzbodglnpkudawhijsc\n"
     ]
    }
   ],
   "source": [
    "# https://stackoverflow.com/a/12226874\n",
    "def diff_letters(a,b):\n",
    "    return sum ( a[i] != b[i] for i in range(len(a)) )\n",
    "\n",
    "for box_id_1 in box_ids:\n",
    "    for box_id_2 in box_ids:\n",
    "        if diff_letters(box_id_1, box_id_2) == 1:\n",
    "            print(box_id_1)\n",
    "            print(box_id_2)"
   ]
  }
 ],
 "metadata": {
  "kernelspec": {
   "display_name": "Python 3",
   "language": "python",
   "name": "python3"
  },
  "language_info": {
   "codemirror_mode": {
    "name": "ipython",
    "version": 3
   },
   "file_extension": ".py",
   "mimetype": "text/x-python",
   "name": "python",
   "nbconvert_exporter": "python",
   "pygments_lexer": "ipython3",
   "version": "3.7.0"
  }
 },
 "nbformat": 4,
 "nbformat_minor": 2
}

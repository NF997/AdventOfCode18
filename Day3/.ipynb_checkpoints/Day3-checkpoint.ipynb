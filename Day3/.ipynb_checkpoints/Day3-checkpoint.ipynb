{
 "cells": [
  {
   "cell_type": "markdown",
   "metadata": {},
   "source": [
    "# Advent of Code - Day 3"
   ]
  },
  {
   "cell_type": "code",
   "execution_count": 18,
   "metadata": {},
   "outputs": [],
   "source": [
    "import os\n",
    "\n",
    "class Claim:\n",
    "    def __init__(self, encoded_claim):\n",
    "        # Parse the claim string into numbers\n",
    "        self.claim_id = int(encoded_claim.split(\"#\")[1].split(\" @\")[0])\n",
    "        self.offset_left = int(encoded_claim.split(\"@ \")[1].split(\",\")[0])\n",
    "        self.offset_top = int(encoded_claim.split(\",\")[1].split(\":\")[0])\n",
    "        self.width = int(encoded_claim.split(\": \")[1].split(\"x\")[0])\n",
    "        self.height = int(encoded_claim.split(\"x\")[1])"
   ]
  },
  {
   "cell_type": "markdown",
   "metadata": {},
   "source": [
    "## Part 1 - Detect Overlapping Claims"
   ]
  },
  {
   "cell_type": "code",
   "execution_count": 19,
   "metadata": {},
   "outputs": [
    {
     "name": "stdout",
     "output_type": "stream",
     "text": [
      "109716\n"
     ]
    }
   ],
   "source": [
    "with open('input.txt') as f:\n",
    "    encoded_claims = f.readlines()\n",
    "\n",
    "# Initialize a 1000 x 1000 inch fabric\n",
    "fabric = [[0 for _ in range(1000)] for _ in range(1000)]\n",
    "\n",
    "claims = [ Claim(encoded_claim) for encoded_claim in encoded_claims]\n",
    "\n",
    "for claim in claims:\n",
    "    # Mark all inches the claim wants to use\n",
    "    for w in range(claim.width):\n",
    "        for h in range(claim.height):\n",
    "            fabric[claim.offset_top + h][claim.offset_left + w] += 1\n",
    "            \n",
    "# Count how many inches were claimed more than once\n",
    "claimed_more_than_once = 0\n",
    "for row in fabric:\n",
    "    for inch in row:\n",
    "        if inch > 1:\n",
    "            claimed_more_than_once += 1\n",
    "print(claimed_more_than_once)"
   ]
  },
  {
   "cell_type": "markdown",
   "metadata": {},
   "source": [
    "## Part 2 - Search for Intact Claim"
   ]
  },
  {
   "cell_type": "code",
   "execution_count": 20,
   "metadata": {},
   "outputs": [
    {
     "name": "stdout",
     "output_type": "stream",
     "text": [
      "124\n"
     ]
    }
   ],
   "source": [
    "for claim in claims:\n",
    "    # Check if all inches are only used by this claim\n",
    "    intact = True\n",
    "    for w in range(claim.width):\n",
    "        for h in range(claim.height):\n",
    "            if fabric[claim.offset_top + h][claim.offset_left + w] != 1:\n",
    "                intact = False\n",
    "    if intact:\n",
    "        print(claim.claim_id)"
   ]
  }
 ],
 "metadata": {
  "kernelspec": {
   "display_name": "Python 3",
   "language": "python",
   "name": "python3"
  },
  "language_info": {
   "codemirror_mode": {
    "name": "ipython",
    "version": 3
   },
   "file_extension": ".py",
   "mimetype": "text/x-python",
   "name": "python",
   "nbconvert_exporter": "python",
   "pygments_lexer": "ipython3",
   "version": "3.7.0"
  }
 },
 "nbformat": 4,
 "nbformat_minor": 2
}

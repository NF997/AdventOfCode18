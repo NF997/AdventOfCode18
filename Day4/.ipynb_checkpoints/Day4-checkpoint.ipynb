{
 "cells": [
  {
   "cell_type": "markdown",
   "metadata": {},
   "source": [
    "# Advent of Code - Day 4"
   ]
  },
  {
   "cell_type": "code",
   "execution_count": 63,
   "metadata": {},
   "outputs": [],
   "source": [
    "import os\n",
    "from datetime import datetime\n",
    "\n",
    "class Log:\n",
    "    def __init__(self, encoded_log):\n",
    "        # Parse the log string into attributes\n",
    "        self.timestamp = datetime.strptime(encoded_log.split(\"[\")[1].split(\"]\")[0], '%Y-%m-%d %H:%M')\n",
    "        self.action = encoded_log.split(\"] \")[1]\n",
    "        \n",
    "class Guard:\n",
    "    def __init__(self, guard_id, minute_list):\n",
    "        self.guard_id = guard_id\n",
    "        self.minute_list = minute_list\n",
    "        \n",
    "with open('input.txt') as f:\n",
    "    encoded_unordered_logs = f.readlines()\n",
    "logs = sorted([Log(encoded_log) for encoded_log in encoded_unordered_logs], key=lambda l: l.timestamp)\n",
    "\n",
    "guards = []\n",
    "guard_id = -1\n",
    "fallen_asleep_at = -1\n",
    "minute_list = [0 for _ in range(60)]\n",
    "for log in logs:\n",
    "    if log.action.startswith(\"Guard\"):\n",
    "        # A new shift starts.\n",
    "        if logs.index(log) != 0:\n",
    "            # Save the guard from the last shift.\n",
    "            known_guard = list(filter(lambda g: g.guard_id == guard_id, guards))\n",
    "            if len(known_guard) == 1:\n",
    "                known_guard[0].minute_list = [x + y for x, y in zip(known_guard[0].minute_list, minute_list)]\n",
    "            else:\n",
    "                guards.append(Guard(guard_id, minute_list.copy()))\n",
    "            minute_list = [0 for _ in range(60)]\n",
    "        guard_id = int(log.action.split(\"Guard #\")[1].split(\" begins\")[0])\n",
    "    elif log.action.startswith(\"falls asleep\"):\n",
    "        fallen_asleep_at = int(log.timestamp.minute)\n",
    "    elif log.action.startswith(\"wakes up\"):\n",
    "        for minute in range(int(log.timestamp.minute) - fallen_asleep_at):\n",
    "            minute_list[fallen_asleep_at + minute] += 1\n",
    "    else:\n",
    "        print(\"Unknown Log Action\")\n",
    "        break"
   ]
  },
  {
   "cell_type": "markdown",
   "metadata": {},
   "source": [
    "## Part 1"
   ]
  },
  {
   "cell_type": "code",
   "execution_count": 66,
   "metadata": {},
   "outputs": [
    {
     "name": "stdout",
     "output_type": "stream",
     "text": [
      "140932\n"
     ]
    }
   ],
   "source": [
    "guard_with_most_minutes_asleep = sorted(guards, key=lambda g: sum(g.minute_list))[-1]\n",
    "perfect_minute_to_break_in = guard_with_most_minutes_asleep.minute_list.index(max(guard_with_most_minutes_asleep.minute_list))\n",
    "print(guard_with_most_minutes_asleep.guard_id * perfect_minute_to_break_in)"
   ]
  },
  {
   "cell_type": "markdown",
   "metadata": {},
   "source": [
    "## Part 2"
   ]
  },
  {
   "cell_type": "code",
   "execution_count": 67,
   "metadata": {},
   "outputs": [
    {
     "name": "stdout",
     "output_type": "stream",
     "text": [
      "51232\n"
     ]
    }
   ],
   "source": [
    "guard_with_most_minutes_asleep_in_a_specific_minute = sorted(guards, key=lambda g: max(g.minute_list))[-1]\n",
    "perfect_minute_to_break_in = guard_with_most_minutes_asleep_in_a_specific_minute.minute_list.index(max(guard_with_most_minutes_asleep_in_a_specific_minute.minute_list))\n",
    "print(guard_with_most_minutes_asleep_in_a_specific_minute.guard_id * perfect_minute_to_break_in)"
   ]
  }
 ],
 "metadata": {
  "kernelspec": {
   "display_name": "Python 3",
   "language": "python",
   "name": "python3"
  },
  "language_info": {
   "codemirror_mode": {
    "name": "ipython",
    "version": 3
   },
   "file_extension": ".py",
   "mimetype": "text/x-python",
   "name": "python",
   "nbconvert_exporter": "python",
   "pygments_lexer": "ipython3",
   "version": "3.7.0"
  }
 },
 "nbformat": 4,
 "nbformat_minor": 2
}

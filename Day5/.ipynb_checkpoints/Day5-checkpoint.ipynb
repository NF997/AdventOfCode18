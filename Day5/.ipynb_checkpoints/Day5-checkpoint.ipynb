{
 "cells": [
  {
   "cell_type": "markdown",
   "metadata": {},
   "source": [
    "# Advent of Code - Day 5"
   ]
  },
  {
   "cell_type": "code",
   "execution_count": 29,
   "metadata": {},
   "outputs": [],
   "source": [
    "import os\n",
    "from string import ascii_lowercase\n",
    "\n",
    "with open('input.txt') as f:\n",
    "    initial_polymer = f.readlines()[0][0:-1]"
   ]
  },
  {
   "cell_type": "markdown",
   "metadata": {},
   "source": [
    "## Part 1 - Reacting the Polymer"
   ]
  },
  {
   "cell_type": "code",
   "execution_count": 28,
   "metadata": {},
   "outputs": [
    {
     "data": {
      "text/plain": [
       "9078"
      ]
     },
     "execution_count": 28,
     "metadata": {},
     "output_type": "execute_result"
    }
   ],
   "source": [
    "def react(polymer):    \n",
    "    change_happened_in_last_round = True\n",
    "    while change_happened_in_last_round:\n",
    "        change_happened_in_last_round = False\n",
    "        for i in range(len(polymer) - 1):\n",
    "            same_type = polymer[i].lower() == polymer[i+1].lower()\n",
    "            opposite_polarity = polymer[i].islower() and polymer[i+1].isupper() or polymer[i].isupper() and polymer[i+1].islower()\n",
    "            if same_type and opposite_polarity:\n",
    "                polymer = polymer[0:i] + polymer[(i+2):len(polymer)]\n",
    "                change_happened_in_last_round = True\n",
    "                break\n",
    "    return len(polymer)\n",
    "\n",
    "react(initial_polymer)"
   ]
  },
  {
   "cell_type": "markdown",
   "metadata": {},
   "source": [
    "## Part 2 - Removing a Specific Unit Type"
   ]
  },
  {
   "cell_type": "code",
   "execution_count": 31,
   "metadata": {},
   "outputs": [
    {
     "name": "stdout",
     "output_type": "stream",
     "text": [
      "[8696, 8690, 8682, 8708, 8740, 8686, 8770, 8724, 8724, 8750, 8756, 8780, 8712, 8750, 8734, 8746, 8678, 8664, 8684, 8696, 5698, 8688, 8750, 8670, 8706, 8710]\n",
      "5698\n"
     ]
    }
   ],
   "source": [
    "lengths_of_collapsed_polymers = []\n",
    "for i in range(26):\n",
    "    type_of_unit = ascii_lowercase[i]\n",
    "    # Remove all instances\n",
    "    polymer = initial_polymer.replace(type_of_unit, '').replace(type_of_unit.upper(), '')\n",
    "    lengths_of_collapsed_polymers.append(react(polymer))\n",
    "print(lengths_of_collapsed_polymers)\n",
    "print(min(lengths_of_collapsed_polymers))"
   ]
  }
 ],
 "metadata": {
  "kernelspec": {
   "display_name": "Python 3",
   "language": "python",
   "name": "python3"
  },
  "language_info": {
   "codemirror_mode": {
    "name": "ipython",
    "version": 3
   },
   "file_extension": ".py",
   "mimetype": "text/x-python",
   "name": "python",
   "nbconvert_exporter": "python",
   "pygments_lexer": "ipython3",
   "version": "3.7.0"
  }
 },
 "nbformat": 4,
 "nbformat_minor": 2
}

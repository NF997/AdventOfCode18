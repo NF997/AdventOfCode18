{
 "cells": [
  {
   "cell_type": "markdown",
   "metadata": {},
   "source": [
    "# Advent of Code - Day 6"
   ]
  },
  {
   "cell_type": "code",
   "execution_count": 13,
   "metadata": {},
   "outputs": [],
   "source": [
    "import os\n",
    "\n",
    "with open('input.txt') as f:\n",
    "    coordinates = list(map(lambda line: [int(x) for x in line.replace('\\n', '').split(', ')], f.readlines()))"
   ]
  },
  {
   "cell_type": "markdown",
   "metadata": {},
   "source": [
    "## Part 1"
   ]
  },
  {
   "cell_type": "code",
   "execution_count": 10,
   "metadata": {},
   "outputs": [
    {
     "name": "stdout",
     "output_type": "stream",
     "text": [
      "[0, 0, 0, 0, 0, 0, 0, 0, 0, 0, 0, 0, 0, 0, 0, 0, 0, 0, 0, 0, 0, 0, 0, 0, 0, 0, 0, 0, 0, 0, 0, 0, 0, 0, 0, 0, 0, 0, 0, 0, 0, 0, 0, 0, 0, 0, 0, 0, 0, 0, 0, 0, 0, 0, 0, 0, 0, 0, 0, 0, 0, 0, 0, 0, 0, 0, 0, 0, 0, 0, 0, 0, 0, 0, 0, 0, 0, 0, 0, 0, 0, 0, 0, 0, 0, 0, 0, 0, 0, 0, 0, 0, 0, 0, 0, 0, 0, 0, 0, 0, 0, 0, 0, 0, 0, 0, 0, 0, 0, 0, 0, 0, 0, 0, 0, 0, 0, 0, 0, 0, 0, 0, 0, 0, 0, 0, 0, 0, 0, 0, 0, 0, 0, 0, 0, 0, 0, 0, 0, 0, 0, 0, 0, 0, 0, 0, 0, 0, 0, 0, 0, 0, 0, 0, 0, 0, 0, 0, 0, 0, 0, 0, 0, 0, 0, 0, 0, 0, 0, 0, 0, 0, 0, 0, 0, 0, 0, 0, 0, 0, 0, 0, 0, 0, 0, 0, 0, 0, 0, 0, 0, 0, 0, 0, 0, 0, 0, 0, 0, 0, 0, 0, 0, 0, 0, 0, 0, 0, 0, 0, 0, 0, 0, 0, 0, 0, 0, 0, 0, 0, 0, 0, 0, 0, 0, 0, 0, 0, 0, 0, 0, 0, 0, 0, 0, 0, 0, 0, 0, 0, 0, 0, 0, 0, 0, 0, 0, 0, 0, 0, 0, 0, 0, 0, 0, 0, 0, 0, 0, 0, 0, 0, 0, 0, 0, 0, 0, 0, 0, 0, 0, 0, 0, 0, 0, 0, 0, 0, 0, 0, 0, 0, 0, 0, 0, 0, 0, 0, 0, 0, 0, 0, 0, 0, 0, 0, 0, 0, 0, 0, 0, 0, 0, 0, 0, 0, 0, 0, 0, 0, 351, 657, 890, 917, 957, 971, 977, 1003, 1014, 1052, 1111, 1319, 1410, 1465, 1525, 1561, 1696, 1801, 1966, 2057, 2152, 2212, 2223, 2238, 2276, 3229, 3569, 3203525, 4803015, 5201902, 6402552, 7202814, 8003077, 9202074, 9202998, 9203139, 13203500, 13603783, 16004798, 18404687, 18803557, 26404616, 30005572, 30402231, 37604372, 47201423, 48001173, 49601280, 76006653, 84010625]\n"
     ]
    }
   ],
   "source": [
    "def calc_manhattan_distance(p, q):\n",
    "    return abs(p[0] - q[0]) + abs(p[1] - q[1])\n",
    "number_of_owned_points = [0 for _ in range(360)]\n",
    "for x in range(360):\n",
    "    for y in range(360):\n",
    "        point_on_grid = [x, y]\n",
    "        distances_of_the_single_point = []\n",
    "        for coordinate in coordinates:\n",
    "            distances_of_the_single_point.append(calc_manhattan_distance(point_on_grid, coordinate))\n",
    "        closest_coordinate = distances_of_the_single_point.index(min(distances_of_the_single_point))\n",
    "        if distances_of_the_single_point.count(min(distances_of_the_single_point)) == 1:\n",
    "            if x == 0 or x == 359 or y == 0 or y == 359:\n",
    "                ## Simulate infinity\n",
    "                number_of_owned_points[closest_coordinate] += 400000\n",
    "            else:\n",
    "                number_of_owned_points[closest_coordinate] += 1\n",
    "print(sorted(number_of_owned_points))"
   ]
  },
  {
   "cell_type": "markdown",
   "metadata": {},
   "source": [
    "## Part 2"
   ]
  },
  {
   "cell_type": "code",
   "execution_count": 12,
   "metadata": {},
   "outputs": [
    {
     "name": "stdout",
     "output_type": "stream",
     "text": [
      "48978\n"
     ]
    }
   ],
   "source": [
    "number_of_points_in_region = 0\n",
    "for x in range(360):\n",
    "    for y in range(360):\n",
    "        point_on_grid = [x, y]\n",
    "        sum_of_distances = 0\n",
    "        for coordinate in coordinates:\n",
    "            sum_of_distances += calc_manhattan_distance(point_on_grid, coordinate)\n",
    "        if sum_of_distances < 10000:\n",
    "            number_of_points_in_region += 1\n",
    "print(number_of_points_in_region)"
   ]
  }
 ],
 "metadata": {
  "kernelspec": {
   "display_name": "Python 3",
   "language": "python",
   "name": "python3"
  },
  "language_info": {
   "codemirror_mode": {
    "name": "ipython",
    "version": 3
   },
   "file_extension": ".py",
   "mimetype": "text/x-python",
   "name": "python",
   "nbconvert_exporter": "python",
   "pygments_lexer": "ipython3",
   "version": "3.7.0"
  }
 },
 "nbformat": 4,
 "nbformat_minor": 2
}

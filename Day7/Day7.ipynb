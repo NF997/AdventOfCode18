{
 "cells": [
  {
   "cell_type": "markdown",
   "metadata": {},
   "source": [
    "# Advent of Code - Day 7"
   ]
  },
  {
   "cell_type": "code",
   "execution_count": 53,
   "metadata": {},
   "outputs": [],
   "source": [
    "import os\n",
    "import string\n",
    "import copy\n",
    "\n",
    "class Step:\n",
    "    def __init__(self, identifier, prerequisites):\n",
    "        self.identifier = identifier\n",
    "        self.prerequisites = prerequisites\n",
    "        \n",
    "class Worker:\n",
    "    def __init__(self, step, seconds_left):\n",
    "        self.step = step\n",
    "        self.seconds_left = seconds_left\n",
    "\n",
    "with open('input.txt') as f:\n",
    "    instructions = f.readlines()"
   ]
  },
  {
   "cell_type": "markdown",
   "metadata": {},
   "source": [
    "## Part 1 - Bring Order to the Mess"
   ]
  },
  {
   "cell_type": "code",
   "execution_count": 55,
   "metadata": {},
   "outputs": [
    {
     "name": "stdout",
     "output_type": "stream",
     "text": [
      "JRHSBCKUTVWDQAIGYOPXMFNZEL\n"
     ]
    }
   ],
   "source": [
    "# Create step objects\n",
    "steps = []\n",
    "for instruction in instructions:\n",
    "    step = instruction.split('step ')[1].split(' can begin.')[0]\n",
    "    prerequisite = instruction.split('Step ')[1].split(' must be finished')[0]\n",
    "    # Handle step\n",
    "    known_step = list(filter(lambda s: s.identifier == step, steps))\n",
    "    if len(known_step) == 1:\n",
    "        known_step[0].prerequisites.add(prerequisite)\n",
    "    else:\n",
    "        steps.append(Step(step, set(prerequisite)))\n",
    "    # Handle prerequisite (which is also a step on its own)\n",
    "    known_step = list(filter(lambda s: s.identifier == prerequisite, steps))\n",
    "    if len(known_step) == 0:\n",
    "        steps.append(Step(prerequisite, set()))\n",
    "\n",
    "initial_steps = copy.deepcopy(steps)\n",
    "        \n",
    "sequence_of_steps = ''\n",
    "while len(steps) > 0:\n",
    "    steps = sorted(steps, key=lambda s: s.identifier)\n",
    "    steps = sorted(steps, key=lambda s: len(s.prerequisites))\n",
    "    if len(steps[0].prerequisites) == 0:\n",
    "        sequence_of_steps += steps[0].identifier\n",
    "        for step in steps:\n",
    "            step.prerequisites.discard(steps[0].identifier)\n",
    "    else:\n",
    "        print('Error: No steps without prerequisites')\n",
    "    steps = steps[1:]\n",
    "print(sequence_of_steps)"
   ]
  },
  {
   "cell_type": "markdown",
   "metadata": {},
   "source": [
    "## Part 2"
   ]
  },
  {
   "cell_type": "code",
   "execution_count": 59,
   "metadata": {},
   "outputs": [
    {
     "name": "stdout",
     "output_type": "stream",
     "text": [
      "975\n"
     ]
    }
   ],
   "source": [
    "steps = copy.deepcopy(initial_steps)\n",
    "steps_ready_for_assignment = []\n",
    "steps_work_in_progress = []\n",
    "workers = [Worker('', 0) for _ in range(5)]\n",
    "seconds_needed = 0\n",
    "while len(steps) > 0 or len(steps_ready_for_assignment) > 0 or len(steps_work_in_progress) > 0:\n",
    "    steps = sorted(steps, key=lambda s: s.identifier)\n",
    "    steps = sorted(steps, key=lambda s: len(s.prerequisites))\n",
    "    steps_ready_for_assignment += [step for step in steps if len(step.prerequisites) == 0]\n",
    "    steps = [step for step in steps if len(step.prerequisites) != 0]\n",
    "    for worker in workers:\n",
    "        if worker.seconds_left == 0:\n",
    "            # Step finished \n",
    "            # Delete this step from all prerequisite lists\n",
    "            for step in steps:\n",
    "                step.prerequisites.discard(worker.step)\n",
    "            steps_ready_for_assignment += [step for step in steps if len(step.prerequisites) == 0]\n",
    "            steps = [step for step in steps if len(step.prerequisites) != 0]\n",
    "            for step in steps_work_in_progress:\n",
    "                if step.identifier == worker.step:\n",
    "                    steps_work_in_progress.remove(step)\n",
    "            # Assign a new step to this worker if possible\n",
    "            if len(steps_ready_for_assignment) > 0:\n",
    "                worker.step = steps_ready_for_assignment[0].identifier\n",
    "                worker.seconds_left = 60 + string.ascii_uppercase.index(worker.step)\n",
    "                steps_work_in_progress.append(steps_ready_for_assignment[0])\n",
    "                steps_ready_for_assignment = steps_ready_for_assignment[1:]\n",
    "        else:\n",
    "            # Step not finished yet\n",
    "            worker.seconds_left -= 1\n",
    "    seconds_needed += 1\n",
    "print(seconds_needed - 2)"
   ]
  }
 ],
 "metadata": {
  "kernelspec": {
   "display_name": "Python 3",
   "language": "python",
   "name": "python3"
  },
  "language_info": {
   "codemirror_mode": {
    "name": "ipython",
    "version": 3
   },
   "file_extension": ".py",
   "mimetype": "text/x-python",
   "name": "python",
   "nbconvert_exporter": "python",
   "pygments_lexer": "ipython3",
   "version": "3.7.0"
  }
 },
 "nbformat": 4,
 "nbformat_minor": 2
}

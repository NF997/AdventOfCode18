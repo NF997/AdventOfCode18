{
 "cells": [
  {
   "cell_type": "markdown",
   "metadata": {},
   "source": [
    "# Advent of Code - Day 8"
   ]
  },
  {
   "cell_type": "code",
   "execution_count": 35,
   "metadata": {},
   "outputs": [],
   "source": [
    "import os\n",
    "\n",
    "class Node:\n",
    "    def __init__(self, children, metadata):\n",
    "        self.children = children\n",
    "        self.metadata = metadata\n",
    "\n",
    "with open('input.txt') as f:\n",
    "    encoded_tree_strings = f.readlines()[0].split(' ')\n",
    "encoded_tree = [int(x) for x in encoded_tree_strings]"
   ]
  },
  {
   "cell_type": "markdown",
   "metadata": {},
   "source": [
    "## Part 1 - Sum of Metadata Entries"
   ]
  },
  {
   "cell_type": "code",
   "execution_count": 36,
   "metadata": {},
   "outputs": [
    {
     "name": "stdout",
     "output_type": "stream",
     "text": [
      "42146\n"
     ]
    }
   ],
   "source": [
    "def process_node(encoded_node, counter):\n",
    "    number_of_children = encoded_node[counter]\n",
    "    number_of_metadata = encoded_node[counter + 1]\n",
    "    tempo_counter = counter\n",
    "    #print(\"Index\", counter, \"#Children\", number_of_children, \"#Meta\", number_of_metadata)\n",
    "    children = []\n",
    "    counter += 2\n",
    "    for i in range(number_of_children):\n",
    "        child_node, counter = process_node(encoded_node, counter)\n",
    "        children.append(child_node)\n",
    "    metadata = encoded_node[counter : counter + number_of_metadata]\n",
    "    counter += number_of_metadata\n",
    "    return (Node(children, metadata), counter)\n",
    "\n",
    "def sum_metadata(node, current_sum):\n",
    "    for child in node.children:\n",
    "        current_sum = sum_metadata(child, current_sum)\n",
    "    return current_sum + sum(node.metadata)\n",
    "    \n",
    "root, _ = process_node(encoded_tree, 0)\n",
    "sum_of_metadata = sum_metadata(root, 0)\n",
    "print(sum_of_metadata)"
   ]
  },
  {
   "cell_type": "markdown",
   "metadata": {},
   "source": [
    "## Part 2 - Value of a Node"
   ]
  },
  {
   "cell_type": "code",
   "execution_count": 37,
   "metadata": {},
   "outputs": [
    {
     "name": "stdout",
     "output_type": "stream",
     "text": [
      "26753\n"
     ]
    }
   ],
   "source": [
    "def get_value(node):\n",
    "    if len(node.children) == 0:\n",
    "        return sum(node.metadata)\n",
    "    else:\n",
    "        sum_of_child_nodes = 0\n",
    "        for meta in node.metadata:\n",
    "            index = meta - 1\n",
    "            if index < len(node.children):\n",
    "                sum_of_child_nodes += get_value(node.children[index])\n",
    "        return sum_of_child_nodes\n",
    "    \n",
    "value_of_root = get_value(root)\n",
    "print(value_of_root)"
   ]
  }
 ],
 "metadata": {
  "kernelspec": {
   "display_name": "Python 3",
   "language": "python",
   "name": "python3"
  },
  "language_info": {
   "codemirror_mode": {
    "name": "ipython",
    "version": 3
   },
   "file_extension": ".py",
   "mimetype": "text/x-python",
   "name": "python",
   "nbconvert_exporter": "python",
   "pygments_lexer": "ipython3",
   "version": "3.7.0"
  }
 },
 "nbformat": 4,
 "nbformat_minor": 2
}

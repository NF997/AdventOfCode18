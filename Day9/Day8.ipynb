{
 "cells": [
  {
   "cell_type": "markdown",
   "metadata": {},
   "source": [
    "# Advent of Code - Day 9"
   ]
  },
  {
   "cell_type": "code",
   "execution_count": 1,
   "metadata": {},
   "outputs": [],
   "source": [
    "from tqdm import tqdm_notebook as tqdm\n",
    "import numpy as np"
   ]
  },
  {
   "cell_type": "code",
   "execution_count": 2,
   "metadata": {},
   "outputs": [],
   "source": [
    "%load_ext cython"
   ]
  },
  {
   "cell_type": "code",
   "execution_count": 8,
   "metadata": {},
   "outputs": [],
   "source": [
    "%%cython\n",
    "\n",
    "def calc_winner_score(number_of_players, last_marble):\n",
    "    # First, the marble numbered 0 is placed in the circle. \n",
    "    # This marble is designated the current marble.\n",
    "    scores = [0 for _ in range(number_of_players)]\n",
    "    marbles = [0]\n",
    "    index_of_current_marble = 0\n",
    "    for marble in range(1, last_marble + 1):\n",
    "        player = (marble - 1) % number_of_players\n",
    "        if marble % 23 == 0:\n",
    "            # First, the current player keeps the marble they would have \n",
    "            # placed, adding it to their score.\n",
    "            scores[player] += marble\n",
    "            # In addition, the marble 7 marbles counter-clockwise from the current marble is \n",
    "            # removed from the circle and also added to the current player's score.\n",
    "            index_of_7_m_cc = index_of_current_marble - 7\n",
    "            if index_of_7_m_cc < 0:\n",
    "                index_of_7_m_cc = len(marbles) + index_of_7_m_cc\n",
    "            scores[player] += marbles[index_of_7_m_cc]\n",
    "            del marbles[index_of_7_m_cc]\n",
    "            # The marble located immediately clockwise of the marble \n",
    "            # that was removed becomes the new current marble.\n",
    "            index_of_current_marble = 0 if index_of_7_m_cc - 1 == len(marbles) - 1 else index_of_7_m_cc\n",
    "        else:\n",
    "            # The player takes a turn placing the lowest-numbered remaining marble into the circle \n",
    "            # between the marbles that are 1 and 2 marbles clockwise of the current marble.\n",
    "            index_of_1_cw = 0 if index_of_current_marble == len(marbles) - 1 else index_of_current_marble + 1\n",
    "            index_of_2_cw = 0 if index_of_current_marble + 1 == len(marbles) - 1 else index_of_current_marble + 2\n",
    "            if index_of_1_cw == 0:\n",
    "                index_to_place_marble = 1\n",
    "            else:\n",
    "                if index_of_2_cw == 0:\n",
    "                    index_to_place_marble = len(marbles)\n",
    "                else:\n",
    "                    index_to_place_marble = index_of_current_marble + 2\n",
    "            marbles.insert(index_to_place_marble, marble)\n",
    "            # The marble that was just placed then becomes the current marble.\n",
    "            index_of_current_marble = index_to_place_marble\n",
    "    return max(scores)"
   ]
  },
  {
   "cell_type": "markdown",
   "metadata": {},
   "source": [
    "## Part 1"
   ]
  },
  {
   "cell_type": "code",
   "execution_count": 9,
   "metadata": {},
   "outputs": [
    {
     "data": {
      "text/plain": [
       "437654"
      ]
     },
     "execution_count": 9,
     "metadata": {},
     "output_type": "execute_result"
    }
   ],
   "source": [
    "# Parameters according to the input file\n",
    "calc_winner_score(400, 71864)"
   ]
  },
  {
   "cell_type": "markdown",
   "metadata": {},
   "source": [
    "## Part 2"
   ]
  },
  {
   "cell_type": "code",
   "execution_count": null,
   "metadata": {},
   "outputs": [],
   "source": [
    "# Number of the last marble 100 times larger than in part 1\n",
    "calc_winner_score(400, (71864*100))"
   ]
  }
 ],
 "metadata": {
  "kernelspec": {
   "display_name": "Python 3",
   "language": "python",
   "name": "python3"
  },
  "language_info": {
   "codemirror_mode": {
    "name": "ipython",
    "version": 3
   },
   "file_extension": ".py",
   "mimetype": "text/x-python",
   "name": "python",
   "nbconvert_exporter": "python",
   "pygments_lexer": "ipython3",
   "version": "3.7.0"
  }
 },
 "nbformat": 4,
 "nbformat_minor": 2
}
